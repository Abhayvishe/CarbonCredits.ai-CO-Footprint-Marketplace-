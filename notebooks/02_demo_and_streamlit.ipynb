{
 "cells": [
  {
   "cell_type": "markdown",
   "id": "2c51b1ac-3ea8-4765-aefc-58a0f212611d",
   "metadata": {},
   "source": [
    "# 02_demo_and_streamlit.ipynb\n",
    "\n",
    "This notebook loads the trained CO₂ prediction model,\n",
    "tests predictions, simulates a CSV-based carbon credit marketplace,\n",
    "and generates a Streamlit app (`app/streamlit_app.py`).\n",
    "\n"
   ]
  },
  {
   "cell_type": "code",
   "execution_count": 1,
   "id": "2821e016-593a-4608-9489-7da761227d9f",
   "metadata": {},
   "outputs": [
    {
     "name": "stdout",
     "output_type": "stream",
     "text": [
      "✅ Model loaded from ../model/model.joblib\n",
      "Predicted CO₂ for sample household: 2.22 tons\n"
     ]
    },
    {
     "name": "stderr",
     "output_type": "stream",
     "text": [
      "C:\\Users\\Abhay\\carboncredits-ai\\venv\\Lib\\site-packages\\sklearn\\utils\\validation.py:2749: UserWarning: X does not have valid feature names, but RandomForestRegressor was fitted with feature names\n",
      "  warnings.warn(\n"
     ]
    }
   ],
   "source": [
    "import joblib\n",
    "import numpy as np\n",
    "import pandas as pd\n",
    "import os\n",
    "\n",
    "# Load trained model\n",
    "model_path = \"../model/model.joblib\"\n",
    "model = joblib.load(model_path)\n",
    "\n",
    "print(\"✅ Model loaded from\", model_path)\n",
    "\n",
    "# Quick test prediction\n",
    "sample = np.array([[3600, 5000, 200, 1]])  # energy_kwh, transport_km, waste_kg, flights\n",
    "pred = model.predict(sample)[0]\n",
    "print(f\"Predicted CO₂ for sample household: {pred:.2f} tons\")\n"
   ]
  },
  {
   "cell_type": "code",
   "execution_count": 2,
   "id": "d2e2f0ba-d1a3-410e-bb29-888a678c125e",
   "metadata": {},
   "outputs": [
    {
     "name": "stdout",
     "output_type": "stream",
     "text": [
      "✅ Marketplace and transactions CSVs ready\n"
     ]
    },
    {
     "data": {
      "text/html": [
       "<div>\n",
       "<style scoped>\n",
       "    .dataframe tbody tr th:only-of-type {\n",
       "        vertical-align: middle;\n",
       "    }\n",
       "\n",
       "    .dataframe tbody tr th {\n",
       "        vertical-align: top;\n",
       "    }\n",
       "\n",
       "    .dataframe thead th {\n",
       "        text-align: right;\n",
       "    }\n",
       "</style>\n",
       "<table border=\"1\" class=\"dataframe\">\n",
       "  <thead>\n",
       "    <tr style=\"text-align: right;\">\n",
       "      <th></th>\n",
       "      <th>id</th>\n",
       "      <th>seller</th>\n",
       "      <th>credits_tons</th>\n",
       "      <th>price_per_ton</th>\n",
       "    </tr>\n",
       "  </thead>\n",
       "  <tbody>\n",
       "    <tr>\n",
       "      <th>0</th>\n",
       "      <td>L1</td>\n",
       "      <td>eco_org</td>\n",
       "      <td>10.0</td>\n",
       "      <td>300.0</td>\n",
       "    </tr>\n",
       "    <tr>\n",
       "      <th>1</th>\n",
       "      <td>L2</td>\n",
       "      <td>green_farm</td>\n",
       "      <td>5.0</td>\n",
       "      <td>280.0</td>\n",
       "    </tr>\n",
       "  </tbody>\n",
       "</table>\n",
       "</div>"
      ],
      "text/plain": [
       "   id      seller  credits_tons  price_per_ton\n",
       "0  L1     eco_org          10.0          300.0\n",
       "1  L2  green_farm           5.0          280.0"
      ]
     },
     "execution_count": 2,
     "metadata": {},
     "output_type": "execute_result"
    }
   ],
   "source": [
    "# Marketplace CSVs\n",
    "market_csv = \"../data/marketplace.csv\"\n",
    "trans_csv = \"../data/transactions.csv\"\n",
    "\n",
    "# Create sample listings\n",
    "market = pd.DataFrame([\n",
    "    {\"id\": \"L1\", \"seller\": \"eco_org\", \"credits_tons\": 10.0, \"price_per_ton\": 300.0},\n",
    "    {\"id\": \"L2\", \"seller\": \"green_farm\", \"credits_tons\": 5.0, \"price_per_ton\": 280.0},\n",
    "])\n",
    "market.to_csv(market_csv, index=False)\n",
    "\n",
    "# Empty transactions file\n",
    "pd.DataFrame(columns=[\"tx_id\",\"listing_id\",\"seller\",\"buyer\",\"credits_tons\",\"price_per_ton\"]).to_csv(trans_csv, index=False)\n",
    "\n",
    "print(\"✅ Marketplace and transactions CSVs ready\")\n",
    "pd.read_csv(market_csv)\n"
   ]
  },
  {
   "cell_type": "code",
   "execution_count": 3,
   "id": "f15f306c-7a43-4425-b4d4-fdc7c79bc748",
   "metadata": {},
   "outputs": [
    {
     "name": "stdout",
     "output_type": "stream",
     "text": [
      "Available listings:\n",
      "    id      seller  credits_tons  price_per_ton\n",
      "0  L1     eco_org          10.0          300.0\n",
      "1  L2  green_farm           5.0          280.0\n",
      "✅ Purchase simulated and recorded\n"
     ]
    },
    {
     "data": {
      "text/html": [
       "<div>\n",
       "<style scoped>\n",
       "    .dataframe tbody tr th:only-of-type {\n",
       "        vertical-align: middle;\n",
       "    }\n",
       "\n",
       "    .dataframe tbody tr th {\n",
       "        vertical-align: top;\n",
       "    }\n",
       "\n",
       "    .dataframe thead th {\n",
       "        text-align: right;\n",
       "    }\n",
       "</style>\n",
       "<table border=\"1\" class=\"dataframe\">\n",
       "  <thead>\n",
       "    <tr style=\"text-align: right;\">\n",
       "      <th></th>\n",
       "      <th>tx_id</th>\n",
       "      <th>listing_id</th>\n",
       "      <th>seller</th>\n",
       "      <th>buyer</th>\n",
       "      <th>credits_tons</th>\n",
       "      <th>price_per_ton</th>\n",
       "    </tr>\n",
       "  </thead>\n",
       "  <tbody>\n",
       "    <tr>\n",
       "      <th>0</th>\n",
       "      <td>20250913131513</td>\n",
       "      <td>L1</td>\n",
       "      <td>eco_org</td>\n",
       "      <td>notebook_buyer</td>\n",
       "      <td>10.0</td>\n",
       "      <td>300.0</td>\n",
       "    </tr>\n",
       "  </tbody>\n",
       "</table>\n",
       "</div>"
      ],
      "text/plain": [
       "            tx_id listing_id   seller           buyer  credits_tons  \\\n",
       "0  20250913131513         L1  eco_org  notebook_buyer          10.0   \n",
       "\n",
       "   price_per_ton  \n",
       "0          300.0  "
      ]
     },
     "execution_count": 3,
     "metadata": {},
     "output_type": "execute_result"
    }
   ],
   "source": [
    "# Load marketplace\n",
    "market = pd.read_csv(market_csv)\n",
    "print(\"Available listings:\\n\", market)\n",
    "\n",
    "# Choose first listing\n",
    "listing = market.iloc[0]\n",
    "\n",
    "# Simulate a buy\n",
    "tx = {\n",
    "    \"tx_id\": pd.Timestamp.now().strftime(\"%Y%m%d%H%M%S\"),\n",
    "    \"listing_id\": listing[\"id\"],\n",
    "    \"seller\": listing[\"seller\"],\n",
    "    \"buyer\": \"notebook_buyer\",\n",
    "    \"credits_tons\": listing[\"credits_tons\"],\n",
    "    \"price_per_ton\": listing[\"price_per_ton\"],\n",
    "}\n",
    "\n",
    "# Append transaction\n",
    "pd.DataFrame([tx]).to_csv(trans_csv, mode=\"a\", header=False, index=False)\n",
    "\n",
    "# Remove listing from marketplace\n",
    "market = market[market[\"id\"] != listing[\"id\"]]\n",
    "market.to_csv(market_csv, index=False)\n",
    "\n",
    "print(\"✅ Purchase simulated and recorded\")\n",
    "pd.read_csv(trans_csv).tail()\n"
   ]
  },
  {
   "cell_type": "code",
   "execution_count": 4,
   "id": "71bba9f3-03bf-4b19-b26a-8ac67c382faa",
   "metadata": {},
   "outputs": [
    {
     "name": "stdout",
     "output_type": "stream",
     "text": [
      "✅ Streamlit app written to ../app/streamlit_app.py\n"
     ]
    }
   ],
   "source": [
    "st_code = r'''\n",
    "import streamlit as st\n",
    "import pandas as pd\n",
    "import numpy as np\n",
    "import joblib\n",
    "import os\n",
    "\n",
    "st.set_page_config(page_title=\"CarbonCredits.ai\", layout=\"wide\")\n",
    "st.title(\"🌍 CarbonCredits.ai — CO₂ Footprint & Marketplace Demo\")\n",
    "\n",
    "# Load model\n",
    "MODEL_PATH = \"../model/model.joblib\" if os.path.exists(\"../model/model.joblib\") else \"model/model.joblib\"\n",
    "if not os.path.exists(MODEL_PATH):\n",
    "    st.error(\"Model not found. Run the training notebook first.\")\n",
    "    st.stop()\n",
    "model = joblib.load(MODEL_PATH)\n",
    "\n",
    "# --- Section 1: Prediction ---\n",
    "st.header(\"1. Estimate your annual CO₂ emissions\")\n",
    "col1, col2 = st.columns(2)\n",
    "with col1:\n",
    "    energy_kwh = st.number_input(\"Annual electricity (kWh)\", min_value=0.0, value=3600.0, step=10.0)\n",
    "    transport_km = st.number_input(\"Annual transport (km)\", min_value=0.0, value=5000.0, step=10.0)\n",
    "with col2:\n",
    "    waste_kg = st.number_input(\"Annual waste (kg)\", min_value=0.0, value=200.0, step=1.0)\n",
    "    flights = st.number_input(\"Flights per year\", min_value=0, value=1, step=1)\n",
    "\n",
    "features = np.array([[energy_kwh, transport_km, waste_kg, flights]])\n",
    "prediction = model.predict(features)[0]\n",
    "prediction = max(prediction, 0.0)\n",
    "\n",
    "st.metric(\"Estimated CO₂ emissions\", f\"{prediction:.2f} tons\")\n",
    "st.info(f\"Recommended credits: {prediction:.2f}\")\n",
    "\n",
    "# --- Section 2: Marketplace ---\n",
    "st.markdown(\"---\")\n",
    "st.header(\"2. Carbon Credit Marketplace (Demo)\")\n",
    "\n",
    "MARKET_CSV = \"../data/marketplace.csv\" if os.path.exists(\"../data/marketplace.csv\") else \"data/marketplace.csv\"\n",
    "TRANS_CSV = \"../data/transactions.csv\" if os.path.exists(\"../data/transactions.csv\") else \"data/transactions.csv\"\n",
    "os.makedirs(os.path.dirname(MARKET_CSV), exist_ok=True)\n",
    "\n",
    "# Add listing\n",
    "with st.expander(\"List credits for sale\"):\n",
    "    with st.form(\"list_form\"):\n",
    "        seller = st.text_input(\"Your name\", value=\"seller1\")\n",
    "        credits_tons = st.number_input(\"Credits (tons)\", min_value=0.1, value=1.0, step=0.1)\n",
    "        price_per_ton = st.number_input(\"Price per ton\", min_value=0.1, value=300.0, step=1.0)\n",
    "        submit = st.form_submit_button(\"List for sale\")\n",
    "    if submit:\n",
    "        df_new = pd.DataFrame([{\n",
    "            \"id\": pd.Timestamp.now().strftime(\"%Y%m%d%H%M%S\"),\n",
    "            \"seller\": seller,\n",
    "            \"credits_tons\": credits_tons,\n",
    "            \"price_per_ton\": price_per_ton\n",
    "        }])\n",
    "        if os.path.exists(MARKET_CSV):\n",
    "            df_new.to_csv(MARKET_CSV, mode=\"a\", header=False, index=False)\n",
    "        else:\n",
    "            df_new.to_csv(MARKET_CSV, index=False)\n",
    "        st.success(\"✅ Listing added!\")\n",
    "\n",
    "# Show listings\n",
    "if os.path.exists(MARKET_CSV):\n",
    "    market_df = pd.read_csv(MARKET_CSV)\n",
    "    st.dataframe(market_df)\n",
    "\n",
    "# Buy listing\n",
    "if os.path.exists(MARKET_CSV) and not pd.read_csv(MARKET_CSV).empty:\n",
    "    market_df = pd.read_csv(MARKET_CSV)\n",
    "    options = market_df[\"id\"].astype(str).tolist()\n",
    "    pick = st.selectbox(\"Select listing ID to buy\", options=options)\n",
    "    buyer = st.text_input(\"Buyer name\", value=\"buyer1\")\n",
    "    if st.button(\"Buy\"):\n",
    "        row = market_df[market_df[\"id\"].astype(str) == pick].iloc[0]\n",
    "        trans = pd.DataFrame([{\n",
    "            \"tx_id\": pd.Timestamp.now().strftime(\"%Y%m%d%H%M%S\"),\n",
    "            \"listing_id\": row[\"id\"],\n",
    "            \"seller\": row[\"seller\"],\n",
    "            \"buyer\": buyer,\n",
    "            \"credits_tons\": row[\"credits_tons\"],\n",
    "            \"price_per_ton\": row[\"price_per_ton\"]\n",
    "        }])\n",
    "        if os.path.exists(TRANS_CSV):\n",
    "            trans.to_csv(TRANS_CSV, mode=\"a\", header=False, index=False)\n",
    "        else:\n",
    "            trans.to_csv(TRANS_CSV, index=False)\n",
    "        # remove from marketplace\n",
    "        market_df = market_df[market_df[\"id\"].astype(str) != pick]\n",
    "        market_df.to_csv(MARKET_CSV, index=False)\n",
    "        st.success(\"✅ Purchase completed!\")\n",
    "'''\n",
    "\n",
    "os.makedirs(\"../app\", exist_ok=True)\n",
    "with open(\"../app/streamlit_app.py\", \"w\", encoding=\"utf-8\") as f:\n",
    "    f.write(st_code)\n",
    "\n",
    "print(\"✅ Streamlit app written to ../app/streamlit_app.py\")\n"
   ]
  },
  {
   "cell_type": "markdown",
   "id": "adba45b7-6ace-4057-8373-e1ec194f7aee",
   "metadata": {},
   "source": [
    "# ▶️ How to run the Streamlit app\n",
    "\n",
    "In terminal (PowerShell or JupyterLab terminal):\n",
    "\n",
    "```bash\n",
    "cd carboncredits-ai\n",
    "streamlit run app/streamlit_app.py\n"
   ]
  },
  {
   "cell_type": "code",
   "execution_count": null,
   "id": "8527a380-629d-42be-872c-90cf6bbe5586",
   "metadata": {},
   "outputs": [],
   "source": []
  }
 ],
 "metadata": {
  "kernelspec": {
   "display_name": "Python 3 (ipykernel)",
   "language": "python",
   "name": "python3"
  },
  "language_info": {
   "codemirror_mode": {
    "name": "ipython",
    "version": 3
   },
   "file_extension": ".py",
   "mimetype": "text/x-python",
   "name": "python",
   "nbconvert_exporter": "python",
   "pygments_lexer": "ipython3",
   "version": "3.13.1"
  }
 },
 "nbformat": 4,
 "nbformat_minor": 5
}
